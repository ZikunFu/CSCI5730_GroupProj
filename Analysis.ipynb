{
 "cells": [
  {
   "cell_type": "markdown",
   "metadata": {},
   "source": [
    "# Analysis on ResMaskNet & SVM FER method using Padova Data"
   ]
  },
  {
   "cell_type": "code",
   "execution_count": 1,
   "metadata": {},
   "outputs": [],
   "source": [
    "from feat import Detector\n",
    "import pandas as pd\n",
    "import os"
   ]
  },
  {
   "cell_type": "code",
   "execution_count": 2,
   "metadata": {},
   "outputs": [],
   "source": [
    "detector = Detector(\n",
    "    face_model=\"img2pose\",\n",
    "    landmark_model=\"mobilefacenet\",\n",
    "    au_model='xgb',\n",
    "    emotion_model=\"resmasknet\",\n",
    "    facepose_model=\"img2pose\",\n",
    "    device='cuda' #Use GPU Acceleration\n",
    ")"
   ]
  },
  {
   "cell_type": "code",
   "execution_count": null,
   "metadata": {},
   "outputs": [],
   "source": [
    "# Directory names\n",
    "video_clips  = 'data/PEDFE_set_clips/'  \n",
    "video_labels = 'data/ST1_demo.csv'\n",
    "labels = pd.read_csv(video_labels)"
   ]
  },
  {
   "cell_type": "code",
   "execution_count": 14,
   "metadata": {},
   "outputs": [
    {
     "name": "stdout",
     "output_type": "stream",
     "text": [
      "Processing video: data/PEDFE_set_clips/1_dg_1.avi\n"
     ]
    },
    {
     "name": "stderr",
     "output_type": "stream",
     "text": [
      "100%|██████████| 1/1 [00:03<00:00,  3.06s/it]"
     ]
    },
    {
     "name": "stdout",
     "output_type": "stream",
     "text": [
      "  PDFE_CODE  mean_anger  mean_disgust  mean_fear  mean_happiness  \\\n",
      "0    1_dg_1    0.015438      0.572601   0.001519        0.002715   \n",
      "\n",
      "   mean_sadness  mean_surprise  mean_neutral  \n",
      "0       0.36904       0.000227       0.03846  \n"
     ]
    },
    {
     "name": "stderr",
     "output_type": "stream",
     "text": [
      "\n"
     ]
    }
   ],
   "source": [
    "# Loop through each entry in the PEDFE_code column\n",
    "for PDFE_CODE in labels['PEDFE_code']:\n",
    "    video_path = os.path.join(video_clips, f'{PDFE_CODE}.avi')\n",
    "    print(f'Processing video: {video_path}')\n",
    "    # Detect with py-feat\n",
    "    result = detector.detect_video(video_path=video_path, skip_frames=10, batch_size=35)\n",
    "    # Calculate mean\n",
    "    result = result.extract_mean()\n",
    "    # Append emotion prediction result\n",
    "    result_emo = result[['mean_anger','mean_disgust','mean_fear','mean_happiness','mean_sadness','mean_surprise','mean_neutral']]\n",
    "    result_emo = pd.DataFrame({'PDFE_CODE': PDFE_CODE, **result_emo}) # Insert PDFE_CODE as the first column\n",
    "    # Save to CSV\n",
    "    result_emo.to_csv(f\"result_{PDFE_CODE}.csv\", index=False)\n",
    "    print(result_emo)\n",
    "    break"
   ]
  }
 ],
 "metadata": {
  "kernelspec": {
   "display_name": "pyfeat",
   "language": "python",
   "name": "python3"
  },
  "language_info": {
   "codemirror_mode": {
    "name": "ipython",
    "version": 3
   },
   "file_extension": ".py",
   "mimetype": "text/x-python",
   "name": "python",
   "nbconvert_exporter": "python",
   "pygments_lexer": "ipython3",
   "version": "3.8.18"
  }
 },
 "nbformat": 4,
 "nbformat_minor": 2
}
